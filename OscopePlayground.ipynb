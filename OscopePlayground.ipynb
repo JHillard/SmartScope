{
 "cells": [
  {
   "cell_type": "code",
   "execution_count": 1,
   "metadata": {
    "collapsed": false
   },
   "outputs": [],
   "source": [
    "import numpy\n",
    "import numpy as np\n",
    "import matplotlib.pyplot as plot\n",
    "import time as TIME\n",
    "import csv\n",
    "import usbtmc\n",
    "\n",
    "#CONSTANTS\n",
    "TIME_LENGTH = 600\n"
   ]
  },
  {
   "cell_type": "code",
   "execution_count": null,
   "metadata": {
    "collapsed": true
   },
   "outputs": [],
   "source": [
    "\n",
    "r = usbtmc.rigol()\n",
    "s1 = r.sample_norm(\"CHAN1\")\n",
    "print(\"Sample Captured\")"
   ]
  },
  {
   "cell_type": "code",
   "execution_count": null,
   "metadata": {
    "collapsed": false
   },
   "outputs": [],
   "source": [
    "data = numpy.frombuffer(s1, 'B')\n",
    "print(data)\n",
    "voltscale = float( r.ask(\":CHAN1:SCAL?\", length=20))\n",
    "voltageOffset = float( r.ask(\":CHAN1:OFFS?\", length=20))\n",
    "timescale = float( r.ask(\":TIM:SCAL?\", length = 20))\n",
    "timeOffset = float( r.ask(\":TIM:OFFS?\", length =20))"
   ]
  },
  {
   "cell_type": "code",
   "execution_count": 2,
   "metadata": {
    "collapsed": false
   },
   "outputs": [],
   "source": [
    "def sample(channel=\"CHAN1\"):\n",
    "    dtemp = r.sample_norm(channel)\n",
    "    if len(dtemp) < TIME_LENGTH:\n",
    "        raise \"Device unresponsive. Please Try again.\"\n",
    "    voltscale = float( r.ask(\":CHAN1:SCAL?\", length=20))\n",
    "    voltageOffset = float( r.ask(\":CHAN1:OFFS?\", length=20))\n",
    "    timescale = float( r.ask(\":TIM:SCAL?\", length = 20))\n",
    "    timeOffset = float( r.ask(\":TIM:OFFS?\", length =20))\n",
    "    weird_offset = 11 \n",
    "    data = data*-1+255\n",
    "    data = data[weird_offset:]\n",
    "    data = (data - 130.0 - voltageOffset/voltscale*25) / 25 * voltscale\n",
    "    return data\n",
    "    \n",
    "def writeSample(filename, data, time):\n",
    "    with open(filename, 'wb') as csvfile:\n",
    "        cartographer = csv.writer(csvfile, delimiter = \" \",\n",
    "                                  quotechar='|', quoting=csv.QUOTE_MINIMAL)\n",
    "        for i in range(0,len(data)):\n",
    "            cartographer.writerow([str(data[i]), str(time[i])])\n",
    "            \n",
    "def graphSample(anex, save = False, img_name = str(TIME.strftime(\"%H%M%S\"))): #anex=(data,time)\n",
    "    \n",
    "    \n",
    "    data = anex[0,:]\n",
    "    t = anex[1,:]\n",
    "    # # See if we should use a different time axis\n",
    "    if (t[599] < 1e-3):\n",
    "        t = t * 1e6\n",
    "        tUnit = \"uS\"\n",
    "    elif (time[599] < 1):\n",
    "        t = t * 1e3\n",
    "        tUnit = \"mS\"\n",
    "    else:\n",
    "        tUnit = \"S\"\n",
    "\n",
    "\n",
    "    # Plot the data\n",
    "    newFig = plot.figure()\n",
    "    plot.plot(t, data)\n",
    "    plot.title(\"Oscilloscope Channel 1\")\n",
    "    plot.ylabel(\"Voltage (V)\")\n",
    "    plot.xlabel(\"Time (\" + tUnit + \")\") #Relabel tUnit if re-enabling scale\n",
    "    plot.xlim(t[0], t[599])\n",
    "    if(save): plot.savefig(img_name)\n",
    "    plot.show()\n",
    "    \n"
   ]
  },
  {
   "cell_type": "code",
   "execution_count": null,
   "metadata": {
    "collapsed": false
   },
   "outputs": [],
   "source": [
    "weird_offset = 11 \n",
    "data = data*-1+255\n",
    "data = data[weird_offset:]\n",
    "data = (data - 130.0 - voltageOffset/voltscale*25) / 25 * voltscale"
   ]
  },
  {
   "cell_type": "code",
   "execution_count": null,
   "metadata": {
    "collapsed": false
   },
   "outputs": [],
   "source": [
    "import time\n",
    "time.strftime(\"%H%M%S\")"
   ]
  },
  {
   "cell_type": "code",
   "execution_count": 3,
   "metadata": {
    "collapsed": false
   },
   "outputs": [
    {
     "name": "stdout",
     "output_type": "stream",
     "text": [
      "[[ 20.    20.02  20.04 ...,  31.94  31.96  31.98]\n",
      " [ -6.    -5.98  -5.96 ...,   5.94   5.96   5.98]]\n"
     ]
    }
   ],
   "source": [
    "timescale = 1\n",
    "time = numpy.arange(-300.0/50*timescale, 300.0/50*timescale, timescale/50.0)\n",
    "fake_data = numpy.arange(1000.0/50*timescale, 1600.0/50*timescale, timescale/50.0)\n",
    "package = np.vstack((fake_data,time))\n",
    "np.savetxt(\"test.csv\", package, delimiter=\",\")\n",
    "# writeSample(\"Test.csv\", fake_data, time)\n",
    "new_pk = np.loadtxt(\"test.csv\", delimiter=\",\")\n",
    "print(new_pk)\n",
    "graphSample(package, save=True)"
   ]
  },
  {
   "cell_type": "code",
   "execution_count": null,
   "metadata": {
    "collapsed": false
   },
   "outputs": [],
   "source": [
    "time = numpy.arange(-300.0/50*timescale, 300.0/50*timescale, timescale/50.0)\n",
    "fake_data = numpy.arange(1000.0/50*timescale, 1600.0/50*timescale, timescale/50.0)\n",
    "\n",
    "print(len(data))\n",
    "print(len(time))\n",
    "\n",
    "\n",
    "print(len(data))\n",
    "if (len(time) > len(data)):\n",
    "    time = time[300-int(len(data)/2):300+int(len(data/2))]\n",
    "else:\n",
    "    i = int(len(data)/2)-300\n",
    "    j = int(len(data)/2)+300\n",
    "    data = data[i:j]\n"
   ]
  },
  {
   "cell_type": "code",
   "execution_count": null,
   "metadata": {
    "collapsed": true
   },
   "outputs": [],
   "source": [
    "test.write(\":WAV:DATA? CHA1\")"
   ]
  },
  {
   "cell_type": "code",
   "execution_count": null,
   "metadata": {
    "collapsed": true
   },
   "outputs": [],
   "source": [
    "test.write(\"MEAS:VMIN? CHAN1\")"
   ]
  },
  {
   "cell_type": "code",
   "execution_count": null,
   "metadata": {
    "collapsed": true
   },
   "outputs": [],
   "source": [
    "test.write(\":WAV:POIN:MODE MAX\")"
   ]
  },
  {
   "cell_type": "code",
   "execution_count": null,
   "metadata": {
    "collapsed": false
   },
   "outputs": [],
   "source": [
    "# Grab the data from channel 1\n",
    "test.write(\":WAV:POIN:MODE NOR\")\n",
    " \n",
    "test.write(\":WAV:DATA? CHAN1\")\n",
    "rawdata = test.read(9000).decode('UTF-8')\n",
    "print(rawdata)\n",
    "#data = numpy.frombuffer(rawdata, 'B')"
   ]
  },
  {
   "cell_type": "code",
   "execution_count": null,
   "metadata": {
    "collapsed": false
   },
   "outputs": [],
   "source": [
    "test.write(\":WAV:POIN:MODE RAW\")\n",
    "test.write(\":ACQ:MEMD LONG\")\n",
    "\n",
    "test.write(\":WAV:DATA? CHAN1\")\n",
    "rawdata = []\n",
    "for i in range(100):\n",
    "    rawdata += test.read(2000)\n",
    "    print(rawdata)\n",
    "data = numpy.frombuffer(rawdata, 'B')\n"
   ]
  },
  {
   "cell_type": "code",
   "execution_count": null,
   "metadata": {
    "collapsed": true
   },
   "outputs": [],
   "source": []
  }
 ],
 "metadata": {
  "kernelspec": {
   "display_name": "Python 3",
   "language": "python",
   "name": "python3"
  },
  "language_info": {
   "codemirror_mode": {
    "name": "ipython",
    "version": 3
   },
   "file_extension": ".py",
   "mimetype": "text/x-python",
   "name": "python",
   "nbconvert_exporter": "python",
   "pygments_lexer": "ipython3",
   "version": "3.4.3"
  }
 },
 "nbformat": 4,
 "nbformat_minor": 0
}
